{
 "cells": [
  {
   "cell_type": "markdown",
   "id": "7751362d",
   "metadata": {},
   "source": [
    "# python programming assignment 4:"
   ]
  },
  {
   "cell_type": "code",
   "execution_count": 1,
   "id": "7599a391",
   "metadata": {},
   "outputs": [
    {
     "name": "stdout",
     "output_type": "stream",
     "text": [
      "enter number  5\n",
      "The factorial of 5 is 120\n"
     ]
    }
   ],
   "source": [
    "# QUESTION 1\n",
    "\n",
    "n=int(input(\"enter number  \"))\n",
    "j=1\n",
    "for i in range(n,1,-1):\n",
    "    j = j*i\n",
    "    if i==(n+1):\n",
    "        break\n",
    "print(\"The factorial of\",n,\"is\",j)\n"
   ]
  },
  {
   "cell_type": "code",
   "execution_count": 4,
   "id": "164e72c5",
   "metadata": {},
   "outputs": [
    {
     "name": "stdout",
     "output_type": "stream",
     "text": [
      "enter number: 5\n",
      "5 * 1 = 5\n",
      "5 * 2 = 10\n",
      "5 * 3 = 15\n",
      "5 * 4 = 20\n",
      "5 * 5 = 25\n",
      "5 * 6 = 30\n",
      "5 * 7 = 35\n",
      "5 * 8 = 40\n",
      "5 * 9 = 45\n",
      "5 * 10 = 50\n"
     ]
    }
   ],
   "source": [
    "# QUESTION 2:\n",
    "\n",
    "n=int(input(\"enter number: \"))\n",
    "\n",
    "for i in range(1,11):\n",
    "    j=n*i\n",
    "    print(n,\"*\",i,\"=\",j)"
   ]
  },
  {
   "cell_type": "code",
   "execution_count": 3,
   "id": "4742a4cf",
   "metadata": {},
   "outputs": [
    {
     "name": "stdout",
     "output_type": "stream",
     "text": [
      "enter a no.upto which fibonacci sequence required:  7\n",
      "0\n",
      "1\n",
      "1\n",
      "2\n",
      "3\n",
      "5\n",
      "8\n"
     ]
    }
   ],
   "source": [
    "# QUESTION 3:\n",
    "\n",
    "n=int(input(\"enter a no.upto which fibonacci sequence required:  \"))\n",
    "\n",
    "i=0\n",
    "j=0\n",
    "k=1\n",
    "\n",
    "if n==1 or n==0:\n",
    "    print(j)\n",
    "else:\n",
    "    while i<n:\n",
    "        print(j)\n",
    "        a=j+k\n",
    "        j=k\n",
    "        k=a\n",
    "    \n",
    "        i=i+1"
   ]
  },
  {
   "cell_type": "code",
   "execution_count": 5,
   "id": "022903fb",
   "metadata": {},
   "outputs": [
    {
     "name": "stdout",
     "output_type": "stream",
     "text": [
      "enter no.: 153\n",
      "153 is an Armstrong number\n"
     ]
    }
   ],
   "source": [
    "#QUESTION 4:\n",
    "\n",
    "num = int(input(\"enter no.: \"))\n",
    "order = len(str(num))\n",
    "\n",
    "sum = 0\n",
    "\n",
    "\n",
    "n = num\n",
    "while n > 0:\n",
    "   digit = n % 10\n",
    "   sum = sum + digit ** order\n",
    "   n //= 10\n",
    "\n",
    "\n",
    "if num == sum:\n",
    "   print(num,\"is an Armstrong number\")\n",
    "else:\n",
    "   print(num,\"is not an Armstrong number\")\n"
   ]
  },
  {
   "cell_type": "code",
   "execution_count": 11,
   "id": "1b7914c1",
   "metadata": {},
   "outputs": [
    {
     "name": "stdout",
     "output_type": "stream",
     "text": [
      "enter min no. of interval: 50\n",
      "enter max no. of interval: 500\n",
      "153\n",
      "370\n",
      "371\n",
      "407\n"
     ]
    }
   ],
   "source": [
    "#QUESTION 5:\n",
    "\n",
    "min=int(input(\"enter min no. of interval: \"))\n",
    "max=int(input(\"enter max no. of interval: \"))\n",
    "\n",
    "for i in range(min,max):\n",
    "    order = len(str(i))\n",
    "    sum=0\n",
    "    n=i\n",
    "    while n>0:\n",
    "        digit=n%10\n",
    "        sum=sum+digit**order\n",
    "        n=n//10\n",
    "    \n",
    "    \n",
    "    if i==sum:\n",
    "        print(i)\n",
    "   \n"
   ]
  },
  {
   "cell_type": "code",
   "execution_count": 4,
   "id": "b57ea9ac",
   "metadata": {},
   "outputs": [
    {
     "name": "stdout",
     "output_type": "stream",
     "text": [
      "enter number upto which sum of natural nos. is required: 30\n"
     ]
    },
    {
     "data": {
      "text/plain": [
       "465"
      ]
     },
     "execution_count": 4,
     "metadata": {},
     "output_type": "execute_result"
    }
   ],
   "source": [
    "#QUESTION 6:\n",
    "n=int(input(\"enter number upto which sum of natural nos. is required: \"))\n",
    "l=[]\n",
    "for i in range(1,n+1):\n",
    "    l.append(i)\n",
    "sum(l)\n",
    "\n",
    "    "
   ]
  },
  {
   "cell_type": "code",
   "execution_count": null,
   "id": "8e4c646e",
   "metadata": {},
   "outputs": [],
   "source": []
  }
 ],
 "metadata": {
  "kernelspec": {
   "display_name": "Python 3 (ipykernel)",
   "language": "python",
   "name": "python3"
  },
  "language_info": {
   "codemirror_mode": {
    "name": "ipython",
    "version": 3
   },
   "file_extension": ".py",
   "mimetype": "text/x-python",
   "name": "python",
   "nbconvert_exporter": "python",
   "pygments_lexer": "ipython3",
   "version": "3.9.7"
  }
 },
 "nbformat": 4,
 "nbformat_minor": 5
}
